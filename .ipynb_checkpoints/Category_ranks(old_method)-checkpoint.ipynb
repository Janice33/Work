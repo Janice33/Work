{
 "cells": [
  {
   "cell_type": "code",
   "execution_count": 245,
   "metadata": {},
   "outputs": [],
   "source": [
    "from selenium import webdriver\n",
    "import time\n",
    "from selenium.webdriver.common.keys import Keys\n",
    "\n",
    "driver = webdriver.Chrome(\"C:\\\\chromedriver_win32\\\\chromedriver.exe\")"
   ]
  },
  {
   "cell_type": "code",
   "execution_count": 246,
   "metadata": {},
   "outputs": [],
   "source": [
    "login=\"https://chartable.com/sign_in\""
   ]
  },
  {
   "cell_type": "code",
   "execution_count": 247,
   "metadata": {},
   "outputs": [],
   "source": [
    "driver.get(login)"
   ]
  },
  {
   "cell_type": "code",
   "execution_count": 248,
   "metadata": {},
   "outputs": [],
   "source": [
    "username = driver.find_element_by_id(\"session_email\")\n",
    "username.clear()\n",
    "username.send_keys(\"janicejohnson300@gmail.com\")\n",
    "\n",
    "password = driver.find_element_by_name(\"session[password]\")\n",
    "password.clear()\n",
    "password.send_keys(\"testranking\")"
   ]
  },
  {
   "cell_type": "code",
   "execution_count": 249,
   "metadata": {},
   "outputs": [],
   "source": [
    "driver.find_element_by_name(\"commit\").click()"
   ]
  },
  {
   "cell_type": "code",
   "execution_count": 250,
   "metadata": {},
   "outputs": [],
   "source": [
    "ref_podcast=\"https://chartable.com/podcasts/the-tim-ferriss-show/episodes/62632504-450-books-ive-loved-neil-strauss\""
   ]
  },
  {
   "cell_type": "code",
   "execution_count": 251,
   "metadata": {},
   "outputs": [],
   "source": [
    "driver.get(ref_podcast)"
   ]
  },
  {
   "cell_type": "code",
   "execution_count": 252,
   "metadata": {},
   "outputs": [
    {
     "name": "stdout",
     "output_type": "stream",
     "text": [
      "#450: Books I've Loved — Neil Strauss\n"
     ]
    }
   ],
   "source": [
    "all = driver.find_elements_by_xpath(\"//*[contains(@class, 'f4 mb1 mt3 gray')]\");\n",
    "podcast_name = driver.find_elements_by_class_name(\"f1-ns\")[0].text\n",
    "print(podcast_name)"
   ]
  },
  {
   "cell_type": "code",
   "execution_count": 253,
   "metadata": {
    "scrolled": true
   },
   "outputs": [],
   "source": [
    "podcast_req = ['Apple Podcasts', 'Spotify']"
   ]
  },
  {
   "cell_type": "code",
   "execution_count": 254,
   "metadata": {
    "scrolled": true
   },
   "outputs": [
    {
     "name": "stdout",
     "output_type": "stream",
     "text": [
      "['#27', '▲6', 'Apple Podcasts : United States of America : Business : Episodes', 'Rank History']\n",
      "['#1', '▲2', 'Apple Podcasts : United States of America : Entrepreneurship : Episodes', 'Rank History']\n",
      "['#11', '▲2', 'Apple Podcasts : Canada : Business : Episodes', 'Rank History']\n",
      "['#8', '▶–', 'Apple Podcasts : Australia : Business : Episodes', 'Rank History']\n",
      "['#19', '▲17', 'Apple Podcasts : China : Business : Episodes', 'Rank History']\n",
      "['#93', '▲138', 'Apple Podcasts : Brazil : Business : Episodes', 'Rank History']\n",
      "['#21', '▲16', 'Apple Podcasts : Denmark : Business : Episodes', 'Rank History']\n",
      "['#5', '▶–', 'Apple Podcasts : Switzerland : Business : Episodes', 'Rank History']\n",
      "['#22', '▲51', 'Apple Podcasts : Austria : Business : Episodes', 'Rank History']\n",
      "['#9', '▲10', 'Apple Podcasts : Belgium : Business : Episodes', 'Rank History']\n"
     ]
    }
   ],
   "source": [
    "final=[]\n",
    "for table in driver.find_elements_by_xpath('//*[contains(@class,\"w-100 f5 mb1\")]//tr'):\n",
    "    data = [item.text for item in table.find_elements_by_xpath(\".//*[self::td]\")]\n",
    "    if data != []:\n",
    "        final.append(data)\n",
    "        print(data)\n",
    "# print(final)"
   ]
  },
  {
   "cell_type": "code",
   "execution_count": 256,
   "metadata": {},
   "outputs": [],
   "source": [
    "import pandas as pd\n",
    "df = pd.DataFrame(final,columns=[\"Rank\",\"Change\",\"Region\",\"Extra\"]) \n",
    "df1 = df.Region.str.split(\":\",expand=True)\n",
    "df_final = pd.concat([df,df1],axis=1)\n",
    "df_final = df_final.drop(columns=['Region','Extra',3], errors='ignore')\n",
    "df_final = df_final.rename(columns={0:\"Platform\", 1:\"Region\", 2:\"Category\"})\n",
    "df_final[df_final.columns] = df_final.apply(lambda x: x.str.strip())\n",
    "df_final = df_final[df_final.Platform.isin(podcast_req)]\n",
    "df_final.insert(len(df_final.columns), 'TimeStamp', pd.datetime.now().replace(microsecond=0))"
   ]
  },
  {
   "cell_type": "code",
   "execution_count": 257,
   "metadata": {
    "scrolled": false
   },
   "outputs": [
    {
     "data": {
      "text/html": [
       "<div>\n",
       "<style scoped>\n",
       "    .dataframe tbody tr th:only-of-type {\n",
       "        vertical-align: middle;\n",
       "    }\n",
       "\n",
       "    .dataframe tbody tr th {\n",
       "        vertical-align: top;\n",
       "    }\n",
       "\n",
       "    .dataframe thead th {\n",
       "        text-align: right;\n",
       "    }\n",
       "</style>\n",
       "<table border=\"1\" class=\"dataframe\">\n",
       "  <thead>\n",
       "    <tr style=\"text-align: right;\">\n",
       "      <th></th>\n",
       "      <th>Rank</th>\n",
       "      <th>Change</th>\n",
       "      <th>Platform</th>\n",
       "      <th>Region</th>\n",
       "      <th>Category</th>\n",
       "      <th>TimeStamp</th>\n",
       "    </tr>\n",
       "  </thead>\n",
       "  <tbody>\n",
       "    <tr>\n",
       "      <td>0</td>\n",
       "      <td>#27</td>\n",
       "      <td>▲6</td>\n",
       "      <td>Apple Podcasts</td>\n",
       "      <td>United States of America</td>\n",
       "      <td>Business</td>\n",
       "      <td>2020-08-04 14:39:13</td>\n",
       "    </tr>\n",
       "    <tr>\n",
       "      <td>1</td>\n",
       "      <td>#1</td>\n",
       "      <td>▲2</td>\n",
       "      <td>Apple Podcasts</td>\n",
       "      <td>United States of America</td>\n",
       "      <td>Entrepreneurship</td>\n",
       "      <td>2020-08-04 14:39:13</td>\n",
       "    </tr>\n",
       "    <tr>\n",
       "      <td>2</td>\n",
       "      <td>#11</td>\n",
       "      <td>▲2</td>\n",
       "      <td>Apple Podcasts</td>\n",
       "      <td>Canada</td>\n",
       "      <td>Business</td>\n",
       "      <td>2020-08-04 14:39:13</td>\n",
       "    </tr>\n",
       "    <tr>\n",
       "      <td>3</td>\n",
       "      <td>#8</td>\n",
       "      <td>▶–</td>\n",
       "      <td>Apple Podcasts</td>\n",
       "      <td>Australia</td>\n",
       "      <td>Business</td>\n",
       "      <td>2020-08-04 14:39:13</td>\n",
       "    </tr>\n",
       "    <tr>\n",
       "      <td>4</td>\n",
       "      <td>#19</td>\n",
       "      <td>▲17</td>\n",
       "      <td>Apple Podcasts</td>\n",
       "      <td>China</td>\n",
       "      <td>Business</td>\n",
       "      <td>2020-08-04 14:39:13</td>\n",
       "    </tr>\n",
       "    <tr>\n",
       "      <td>5</td>\n",
       "      <td>#93</td>\n",
       "      <td>▲138</td>\n",
       "      <td>Apple Podcasts</td>\n",
       "      <td>Brazil</td>\n",
       "      <td>Business</td>\n",
       "      <td>2020-08-04 14:39:13</td>\n",
       "    </tr>\n",
       "    <tr>\n",
       "      <td>6</td>\n",
       "      <td>#21</td>\n",
       "      <td>▲16</td>\n",
       "      <td>Apple Podcasts</td>\n",
       "      <td>Denmark</td>\n",
       "      <td>Business</td>\n",
       "      <td>2020-08-04 14:39:13</td>\n",
       "    </tr>\n",
       "    <tr>\n",
       "      <td>7</td>\n",
       "      <td>#5</td>\n",
       "      <td>▶–</td>\n",
       "      <td>Apple Podcasts</td>\n",
       "      <td>Switzerland</td>\n",
       "      <td>Business</td>\n",
       "      <td>2020-08-04 14:39:13</td>\n",
       "    </tr>\n",
       "    <tr>\n",
       "      <td>8</td>\n",
       "      <td>#22</td>\n",
       "      <td>▲51</td>\n",
       "      <td>Apple Podcasts</td>\n",
       "      <td>Austria</td>\n",
       "      <td>Business</td>\n",
       "      <td>2020-08-04 14:39:13</td>\n",
       "    </tr>\n",
       "    <tr>\n",
       "      <td>9</td>\n",
       "      <td>#9</td>\n",
       "      <td>▲10</td>\n",
       "      <td>Apple Podcasts</td>\n",
       "      <td>Belgium</td>\n",
       "      <td>Business</td>\n",
       "      <td>2020-08-04 14:39:13</td>\n",
       "    </tr>\n",
       "  </tbody>\n",
       "</table>\n",
       "</div>"
      ],
      "text/plain": [
       "  Rank Change        Platform                    Region          Category  \\\n",
       "0  #27     ▲6  Apple Podcasts  United States of America          Business   \n",
       "1   #1     ▲2  Apple Podcasts  United States of America  Entrepreneurship   \n",
       "2  #11     ▲2  Apple Podcasts                    Canada          Business   \n",
       "3   #8     ▶–  Apple Podcasts                 Australia          Business   \n",
       "4  #19    ▲17  Apple Podcasts                     China          Business   \n",
       "5  #93   ▲138  Apple Podcasts                    Brazil          Business   \n",
       "6  #21    ▲16  Apple Podcasts                   Denmark          Business   \n",
       "7   #5     ▶–  Apple Podcasts               Switzerland          Business   \n",
       "8  #22    ▲51  Apple Podcasts                   Austria          Business   \n",
       "9   #9    ▲10  Apple Podcasts                   Belgium          Business   \n",
       "\n",
       "            TimeStamp  \n",
       "0 2020-08-04 14:39:13  \n",
       "1 2020-08-04 14:39:13  \n",
       "2 2020-08-04 14:39:13  \n",
       "3 2020-08-04 14:39:13  \n",
       "4 2020-08-04 14:39:13  \n",
       "5 2020-08-04 14:39:13  \n",
       "6 2020-08-04 14:39:13  \n",
       "7 2020-08-04 14:39:13  \n",
       "8 2020-08-04 14:39:13  \n",
       "9 2020-08-04 14:39:13  "
      ]
     },
     "execution_count": 257,
     "metadata": {},
     "output_type": "execute_result"
    }
   ],
   "source": [
    "df_final.head(20)"
   ]
  },
  {
   "cell_type": "code",
   "execution_count": 76,
   "metadata": {},
   "outputs": [],
   "source": [
    "df_final.to_csv(podcast_name+'.csv')"
   ]
  }
 ],
 "metadata": {
  "kernelspec": {
   "display_name": "Python 3",
   "language": "python",
   "name": "python3"
  },
  "language_info": {
   "codemirror_mode": {
    "name": "ipython",
    "version": 3
   },
   "file_extension": ".py",
   "mimetype": "text/x-python",
   "name": "python",
   "nbconvert_exporter": "python",
   "pygments_lexer": "ipython3",
   "version": "3.7.4"
  }
 },
 "nbformat": 4,
 "nbformat_minor": 2
}
