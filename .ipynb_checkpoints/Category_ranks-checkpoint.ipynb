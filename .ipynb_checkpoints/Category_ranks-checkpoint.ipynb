{
 "cells": [
  {
   "cell_type": "code",
   "execution_count": 2,
   "metadata": {},
   "outputs": [],
   "source": [
    "from selenium import webdriver\n",
    "import time\n",
    "from selenium.webdriver.common.keys import Keys\n",
    "\n",
    "driver = webdriver.Chrome(\"C:\\\\chromedriver_win32\\\\chromedriver.exe\")"
   ]
  },
  {
   "cell_type": "code",
   "execution_count": 53,
   "metadata": {},
   "outputs": [],
   "source": [
    "ref_podcast=\"https://chartable.com/podcasts/the-tim-ferriss-show\""
   ]
  },
  {
   "cell_type": "code",
   "execution_count": 54,
   "metadata": {},
   "outputs": [],
   "source": [
    "driver.get(ref_podcast)"
   ]
  },
  {
   "cell_type": "code",
   "execution_count": 55,
   "metadata": {},
   "outputs": [
    {
     "name": "stdout",
     "output_type": "stream",
     "text": [
      "The Tim Ferriss Show\n"
     ]
    }
   ],
   "source": [
    "all = driver.find_elements_by_xpath(\"//*[contains(@class, 'f4 mb1 mt3 gray')]\");\n",
    "podcast_name = driver.find_elements_by_class_name(\"f1-ns\")[0].text\n",
    "print(podcast_name)"
   ]
  },
  {
   "cell_type": "code",
   "execution_count": 56,
   "metadata": {
    "scrolled": true
   },
   "outputs": [],
   "source": [
    "podcast_req = ['Apple Podcasts', 'Spotify']"
   ]
  },
  {
   "cell_type": "code",
   "execution_count": 57,
   "metadata": {
    "scrolled": true
   },
   "outputs": [
    {
     "name": "stdout",
     "output_type": "stream",
     "text": [
      "[['#130', '▲10', 'Apple Podcasts : United States of America : All Podcasts', 'Rank History'], ['#8', '▶–', 'Apple Podcasts : United States of America : Business', 'Rank History'], ['#1', '▶–', 'Apple Podcasts : United States of America : Entrepreneurship', 'Rank History'], ['#83', '▲45', 'Apple Podcasts : Austria : All Podcasts', 'Rank History'], ['#81', '▲57', 'Apple Podcasts : Argentina : All Podcasts', 'Rank History'], ['#2', '▼1', 'Stitcher : Lifestyle And Health : Top Shows', 'Rank History'], ['#72', '▲23', 'Stitcher : All : Most Shared', 'Rank History'], ['#16', '▲3', 'Spotify : United States of America : Business & Technology', 'Rank History'], ['#33', '▶–', 'Spotify : United States of America : Educational', 'Rank History'], ['#6', '▶–', 'Spotify : Australia : Business & Technology', 'Rank History'], ['#7', '▼1', 'Spotify : New Zealand : Business & Technology', 'Rank History'], ['#2', '▶–', 'Spotify : South Africa : Business & Technology', 'Rank History']]\n"
     ]
    }
   ],
   "source": [
    "final=[]\n",
    "for table in driver.find_elements_by_xpath('//*[contains(@class,\"w-100 f5 mb1\")]//tr'):\n",
    "    data = [item.text for item in table.find_elements_by_xpath(\".//*[self::td]\")]\n",
    "    if data != []:\n",
    "        final.append(data)\n",
    "print(final)"
   ]
  },
  {
   "cell_type": "code",
   "execution_count": 58,
   "metadata": {},
   "outputs": [],
   "source": [
    "import pandas as pd\n",
    "df = pd.DataFrame(final,columns=[\"Rank\",\"Change\",\"Region\",\"Extra\"]) \n",
    "df1 = df.Region.str.split(\":\",expand=True)\n",
    "df_final = pd.concat([df,df1],axis=1)\n",
    "df_final = df_final.drop(columns=['Region','Extra'])\n",
    "df_final[df_final.columns] = df_final.apply(lambda x: x.str.strip())\n",
    "df_final.iloc[:][0]\n",
    "df_final = df_final[df_final.iloc[:][0].isin(podcast_req)]"
   ]
  },
  {
   "cell_type": "code",
   "execution_count": 59,
   "metadata": {},
   "outputs": [
    {
     "data": {
      "text/html": [
       "<div>\n",
       "<style scoped>\n",
       "    .dataframe tbody tr th:only-of-type {\n",
       "        vertical-align: middle;\n",
       "    }\n",
       "\n",
       "    .dataframe tbody tr th {\n",
       "        vertical-align: top;\n",
       "    }\n",
       "\n",
       "    .dataframe thead th {\n",
       "        text-align: right;\n",
       "    }\n",
       "</style>\n",
       "<table border=\"1\" class=\"dataframe\">\n",
       "  <thead>\n",
       "    <tr style=\"text-align: right;\">\n",
       "      <th></th>\n",
       "      <th>Rank</th>\n",
       "      <th>Change</th>\n",
       "      <th>0</th>\n",
       "      <th>1</th>\n",
       "      <th>2</th>\n",
       "    </tr>\n",
       "  </thead>\n",
       "  <tbody>\n",
       "    <tr>\n",
       "      <td>0</td>\n",
       "      <td>#130</td>\n",
       "      <td>▲10</td>\n",
       "      <td>Apple Podcasts</td>\n",
       "      <td>United States of America</td>\n",
       "      <td>All Podcasts</td>\n",
       "    </tr>\n",
       "    <tr>\n",
       "      <td>1</td>\n",
       "      <td>#8</td>\n",
       "      <td>▶–</td>\n",
       "      <td>Apple Podcasts</td>\n",
       "      <td>United States of America</td>\n",
       "      <td>Business</td>\n",
       "    </tr>\n",
       "    <tr>\n",
       "      <td>2</td>\n",
       "      <td>#1</td>\n",
       "      <td>▶–</td>\n",
       "      <td>Apple Podcasts</td>\n",
       "      <td>United States of America</td>\n",
       "      <td>Entrepreneurship</td>\n",
       "    </tr>\n",
       "    <tr>\n",
       "      <td>3</td>\n",
       "      <td>#83</td>\n",
       "      <td>▲45</td>\n",
       "      <td>Apple Podcasts</td>\n",
       "      <td>Austria</td>\n",
       "      <td>All Podcasts</td>\n",
       "    </tr>\n",
       "    <tr>\n",
       "      <td>4</td>\n",
       "      <td>#81</td>\n",
       "      <td>▲57</td>\n",
       "      <td>Apple Podcasts</td>\n",
       "      <td>Argentina</td>\n",
       "      <td>All Podcasts</td>\n",
       "    </tr>\n",
       "    <tr>\n",
       "      <td>7</td>\n",
       "      <td>#16</td>\n",
       "      <td>▲3</td>\n",
       "      <td>Spotify</td>\n",
       "      <td>United States of America</td>\n",
       "      <td>Business &amp; Technology</td>\n",
       "    </tr>\n",
       "    <tr>\n",
       "      <td>8</td>\n",
       "      <td>#33</td>\n",
       "      <td>▶–</td>\n",
       "      <td>Spotify</td>\n",
       "      <td>United States of America</td>\n",
       "      <td>Educational</td>\n",
       "    </tr>\n",
       "    <tr>\n",
       "      <td>9</td>\n",
       "      <td>#6</td>\n",
       "      <td>▶–</td>\n",
       "      <td>Spotify</td>\n",
       "      <td>Australia</td>\n",
       "      <td>Business &amp; Technology</td>\n",
       "    </tr>\n",
       "    <tr>\n",
       "      <td>10</td>\n",
       "      <td>#7</td>\n",
       "      <td>▼1</td>\n",
       "      <td>Spotify</td>\n",
       "      <td>New Zealand</td>\n",
       "      <td>Business &amp; Technology</td>\n",
       "    </tr>\n",
       "    <tr>\n",
       "      <td>11</td>\n",
       "      <td>#2</td>\n",
       "      <td>▶–</td>\n",
       "      <td>Spotify</td>\n",
       "      <td>South Africa</td>\n",
       "      <td>Business &amp; Technology</td>\n",
       "    </tr>\n",
       "  </tbody>\n",
       "</table>\n",
       "</div>"
      ],
      "text/plain": [
       "    Rank Change               0                         1  \\\n",
       "0   #130    ▲10  Apple Podcasts  United States of America   \n",
       "1     #8     ▶–  Apple Podcasts  United States of America   \n",
       "2     #1     ▶–  Apple Podcasts  United States of America   \n",
       "3    #83    ▲45  Apple Podcasts                   Austria   \n",
       "4    #81    ▲57  Apple Podcasts                 Argentina   \n",
       "7    #16     ▲3         Spotify  United States of America   \n",
       "8    #33     ▶–         Spotify  United States of America   \n",
       "9     #6     ▶–         Spotify                 Australia   \n",
       "10    #7     ▼1         Spotify               New Zealand   \n",
       "11    #2     ▶–         Spotify              South Africa   \n",
       "\n",
       "                        2  \n",
       "0            All Podcasts  \n",
       "1                Business  \n",
       "2        Entrepreneurship  \n",
       "3            All Podcasts  \n",
       "4            All Podcasts  \n",
       "7   Business & Technology  \n",
       "8             Educational  \n",
       "9   Business & Technology  \n",
       "10  Business & Technology  \n",
       "11  Business & Technology  "
      ]
     },
     "execution_count": 59,
     "metadata": {},
     "output_type": "execute_result"
    }
   ],
   "source": [
    "df_final.head(20)"
   ]
  },
  {
   "cell_type": "code",
   "execution_count": 61,
   "metadata": {},
   "outputs": [],
   "source": [
    "df_final.to_csv(podcast_name+'.csv')"
   ]
  },
  {
   "cell_type": "code",
   "execution_count": null,
   "metadata": {},
   "outputs": [],
   "source": []
  }
 ],
 "metadata": {
  "kernelspec": {
   "display_name": "Python 3",
   "language": "python",
   "name": "python3"
  },
  "language_info": {
   "codemirror_mode": {
    "name": "ipython",
    "version": 3
   },
   "file_extension": ".py",
   "mimetype": "text/x-python",
   "name": "python",
   "nbconvert_exporter": "python",
   "pygments_lexer": "ipython3",
   "version": "3.7.4"
  }
 },
 "nbformat": 4,
 "nbformat_minor": 2
}
