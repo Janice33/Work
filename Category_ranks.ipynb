{
 "cells": [
  {
   "cell_type": "code",
   "execution_count": 59,
   "metadata": {},
   "outputs": [],
   "source": [
    "from selenium import webdriver\n",
    "import time\n",
    "from selenium.webdriver.common.keys import Keys\n",
    "\n",
    "driver = webdriver.Chrome(\"C:\\\\chromedriver_win32\\\\chromedriver.exe\")"
   ]
  },
  {
   "cell_type": "code",
   "execution_count": 60,
   "metadata": {},
   "outputs": [],
   "source": [
    "ref_podcast=\"https://chartable.com/podcasts/asia-unscripted\""
   ]
  },
  {
   "cell_type": "code",
   "execution_count": 61,
   "metadata": {},
   "outputs": [],
   "source": [
    "driver.get(ref_podcast)"
   ]
  },
  {
   "cell_type": "code",
   "execution_count": 62,
   "metadata": {},
   "outputs": [
    {
     "name": "stdout",
     "output_type": "stream",
     "text": [
      "Asia Unscripted\n"
     ]
    }
   ],
   "source": [
    "all = driver.find_elements_by_xpath(\"//*[contains(@class, 'f4 mb1 mt3 gray')]\");\n",
    "podcast_name = driver.find_elements_by_class_name(\"f1-ns\")[0].text\n",
    "print(podcast_name)"
   ]
  },
  {
   "cell_type": "code",
   "execution_count": 63,
   "metadata": {
    "scrolled": true
   },
   "outputs": [],
   "source": [
    "podcast_req = ['Apple Podcasts', 'Spotify']"
   ]
  },
  {
   "cell_type": "code",
   "execution_count": 64,
   "metadata": {
    "scrolled": true
   },
   "outputs": [
    {
     "name": "stdout",
     "output_type": "stream",
     "text": [
      "[['#247', '▼56', 'Apple Podcasts : Philippines : Education', 'Rank History']]\n"
     ]
    }
   ],
   "source": [
    "final=[]\n",
    "for table in driver.find_elements_by_xpath('//*[contains(@class,\"w-100 f5 mb1\")]//tr'):\n",
    "    data = [item.text for item in table.find_elements_by_xpath(\".//*[self::td]\")]\n",
    "    if data != []:\n",
    "        final.append(data)\n",
    "print(final)"
   ]
  },
  {
   "cell_type": "code",
   "execution_count": 65,
   "metadata": {},
   "outputs": [],
   "source": [
    "import pandas as pd\n",
    "df = pd.DataFrame(final,columns=[\"Rank\",\"Change\",\"Region\",\"Extra\"]) \n",
    "df1 = df.Region.str.split(\":\",expand=True) \n",
    "df1.head(20)\n",
    "df = pd.concat([df,df1],axis=1)\n",
    "df = df.drop(columns=['Region','Extra'],axis=1)\n",
    "df[df.columns] = df.apply(lambda x: x.str.strip())\n",
    "df = df[df[[0]].isin(podcast_req)]"
   ]
  },
  {
   "cell_type": "code",
   "execution_count": 66,
   "metadata": {},
   "outputs": [
    {
     "data": {
      "text/html": [
       "<div>\n",
       "<style scoped>\n",
       "    .dataframe tbody tr th:only-of-type {\n",
       "        vertical-align: middle;\n",
       "    }\n",
       "\n",
       "    .dataframe tbody tr th {\n",
       "        vertical-align: top;\n",
       "    }\n",
       "\n",
       "    .dataframe thead th {\n",
       "        text-align: right;\n",
       "    }\n",
       "</style>\n",
       "<table border=\"1\" class=\"dataframe\">\n",
       "  <thead>\n",
       "    <tr style=\"text-align: right;\">\n",
       "      <th></th>\n",
       "      <th>Rank</th>\n",
       "      <th>Change</th>\n",
       "      <th>Extra</th>\n",
       "      <th>0</th>\n",
       "      <th>1</th>\n",
       "      <th>2</th>\n",
       "    </tr>\n",
       "  </thead>\n",
       "  <tbody>\n",
       "    <tr>\n",
       "      <td>0</td>\n",
       "      <td>#80</td>\n",
       "      <td>▼10</td>\n",
       "      <td>Rank History</td>\n",
       "      <td>Apple Podcasts</td>\n",
       "      <td>Australia</td>\n",
       "      <td>Entrepreneurship</td>\n",
       "    </tr>\n",
       "    <tr>\n",
       "      <td>1</td>\n",
       "      <td>#78</td>\n",
       "      <td>▲8</td>\n",
       "      <td>Rank History</td>\n",
       "      <td>Apple Podcasts</td>\n",
       "      <td>South Korea</td>\n",
       "      <td>Business</td>\n",
       "    </tr>\n",
       "    <tr>\n",
       "      <td>2</td>\n",
       "      <td>#231</td>\n",
       "      <td>▼116</td>\n",
       "      <td>Rank History</td>\n",
       "      <td>Apple Podcasts</td>\n",
       "      <td>Norway</td>\n",
       "      <td>Business</td>\n",
       "    </tr>\n",
       "    <tr>\n",
       "      <td>3</td>\n",
       "      <td>#69</td>\n",
       "      <td>▼16</td>\n",
       "      <td>Rank History</td>\n",
       "      <td>Apple Podcasts</td>\n",
       "      <td>Austria</td>\n",
       "      <td>Entrepreneurship</td>\n",
       "    </tr>\n",
       "    <tr>\n",
       "      <td>4</td>\n",
       "      <td>#222</td>\n",
       "      <td>▼119</td>\n",
       "      <td>Rank History</td>\n",
       "      <td>Apple Podcasts</td>\n",
       "      <td>India</td>\n",
       "      <td>Business</td>\n",
       "    </tr>\n",
       "  </tbody>\n",
       "</table>\n",
       "</div>"
      ],
      "text/plain": [
       "   Rank Change         Extra                0              1  \\\n",
       "0   #80    ▼10  Rank History  Apple Podcasts      Australia    \n",
       "1   #78     ▲8  Rank History  Apple Podcasts    South Korea    \n",
       "2  #231   ▼116  Rank History  Apple Podcasts         Norway    \n",
       "3   #69    ▼16  Rank History  Apple Podcasts        Austria    \n",
       "4  #222   ▼119  Rank History  Apple Podcasts          India    \n",
       "\n",
       "                   2  \n",
       "0   Entrepreneurship  \n",
       "1           Business  \n",
       "2           Business  \n",
       "3   Entrepreneurship  \n",
       "4           Business  "
      ]
     },
     "execution_count": 66,
     "metadata": {},
     "output_type": "execute_result"
    }
   ],
   "source": [
    "final_df.head(20)"
   ]
  },
  {
   "cell_type": "code",
   "execution_count": 67,
   "metadata": {},
   "outputs": [],
   "source": [
    "df.to_csv(podcast_name+'.csv')"
   ]
  },
  {
   "cell_type": "code",
   "execution_count": null,
   "metadata": {},
   "outputs": [],
   "source": []
  }
 ],
 "metadata": {
  "kernelspec": {
   "display_name": "Python 3",
   "language": "python",
   "name": "python3"
  },
  "language_info": {
   "codemirror_mode": {
    "name": "ipython",
    "version": 3
   },
   "file_extension": ".py",
   "mimetype": "text/x-python",
   "name": "python",
   "nbconvert_exporter": "python",
   "pygments_lexer": "ipython3",
   "version": "3.7.4"
  }
 },
 "nbformat": 4,
 "nbformat_minor": 2
}
