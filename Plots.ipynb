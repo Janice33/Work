{
 "cells": [
  {
   "cell_type": "code",
   "execution_count": 7,
   "metadata": {},
   "outputs": [],
   "source": [
    "import urllib.parse\n",
    "from selenium import webdriver\n",
    "import time\n",
    "from selenium.webdriver.common.keys import Keys\n",
    "\n",
    "driver = webdriver.Chrome(\"C:\\\\chromedriver_win32\\\\chromedriver.exe\")"
   ]
  },
  {
   "cell_type": "code",
   "execution_count": 8,
   "metadata": {},
   "outputs": [
    {
     "name": "stdout",
     "output_type": "stream",
     "text": [
      "hidden-brain\n"
     ]
    }
   ],
   "source": [
    "name=\"Hidden Brain\"\n",
    "name=name.replace(' ','-').lower()\n",
    "print(name)"
   ]
  },
  {
   "cell_type": "code",
   "execution_count": 19,
   "metadata": {
    "scrolled": true
   },
   "outputs": [
    {
     "name": "stdout",
     "output_type": "stream",
     "text": [
      "['in', 'us', 'ca', 'au', 'sg', 'gb']\n",
      "['business', 'entrepreneurship', 'all-podcasts', 'education']\n"
     ]
    }
   ],
   "source": [
    "#Apple\n",
    "import time\n",
    "c_apple = {'in':'India','us':'USA','ca':'Canada','au':'Australia','sg':'Singapore','gb':'UK'}\n",
    "g_apple = {'business':'Business','entrepreneurship':'Entrepreneurship','all-podcasts':'All','education':'Education'}\n",
    "\n",
    "countries = list(c_apple.keys())\n",
    "genres = list(g_apple.keys())\n",
    "\n",
    "print(countries)\n",
    "print(genres)\n",
    "\n",
    "itunes_plot=[]\n",
    "\n",
    "for genre in genres:\n",
    "    for country in countries:\n",
    "        url_apple = 'https://chartable.com/api/podcasts/'+name+'/rank_history?chart_id='+country+'-'+genre+'-'+'podcasts&chart_type=itunes'\n",
    "        driver.get(url_apple)\n",
    "        time.sleep(2)\n",
    "        plot = driver.find_element_by_tag_name('pre')\n",
    "        if plot.text == '[]' or plot.text==\"Retry later\" or plot.text==\"Something went wrong.\":\n",
    "            continue\n",
    "        else:\n",
    "            itunes_plot.append([c_apple[country],g_apple[genre],plot.text])"
   ]
  },
  {
   "cell_type": "code",
   "execution_count": 20,
   "metadata": {},
   "outputs": [
    {
     "data": {
      "text/html": [
       "<div>\n",
       "<style scoped>\n",
       "    .dataframe tbody tr th:only-of-type {\n",
       "        vertical-align: middle;\n",
       "    }\n",
       "\n",
       "    .dataframe tbody tr th {\n",
       "        vertical-align: top;\n",
       "    }\n",
       "\n",
       "    .dataframe thead th {\n",
       "        text-align: right;\n",
       "    }\n",
       "</style>\n",
       "<table border=\"1\" class=\"dataframe\">\n",
       "  <thead>\n",
       "    <tr style=\"text-align: right;\">\n",
       "      <th></th>\n",
       "      <th>Country</th>\n",
       "      <th>Genre</th>\n",
       "      <th>Plot_points</th>\n",
       "    </tr>\n",
       "  </thead>\n",
       "  <tbody>\n",
       "    <tr>\n",
       "      <td>0</td>\n",
       "      <td>USA</td>\n",
       "      <td>All</td>\n",
       "      <td>[[\"2020-07-05T18:00:00+00:00\",31],[\"2020-07-06...</td>\n",
       "    </tr>\n",
       "    <tr>\n",
       "      <td>1</td>\n",
       "      <td>Canada</td>\n",
       "      <td>All</td>\n",
       "      <td>[[\"2020-07-06T00:00:00+00:00\",72],[\"2020-07-07...</td>\n",
       "    </tr>\n",
       "    <tr>\n",
       "      <td>2</td>\n",
       "      <td>Australia</td>\n",
       "      <td>All</td>\n",
       "      <td>[[\"2020-07-06T00:00:00+00:00\",191],[\"2020-07-0...</td>\n",
       "    </tr>\n",
       "    <tr>\n",
       "      <td>3</td>\n",
       "      <td>Singapore</td>\n",
       "      <td>All</td>\n",
       "      <td>[[\"2020-07-06T00:00:00+00:00\",53],[\"2020-07-07...</td>\n",
       "    </tr>\n",
       "    <tr>\n",
       "      <td>4</td>\n",
       "      <td>UK</td>\n",
       "      <td>All</td>\n",
       "      <td>[[\"2020-07-07T00:00:00+00:00\",227],[\"2020-07-0...</td>\n",
       "    </tr>\n",
       "  </tbody>\n",
       "</table>\n",
       "</div>"
      ],
      "text/plain": [
       "     Country Genre                                        Plot_points\n",
       "0        USA   All  [[\"2020-07-05T18:00:00+00:00\",31],[\"2020-07-06...\n",
       "1     Canada   All  [[\"2020-07-06T00:00:00+00:00\",72],[\"2020-07-07...\n",
       "2  Australia   All  [[\"2020-07-06T00:00:00+00:00\",191],[\"2020-07-0...\n",
       "3  Singapore   All  [[\"2020-07-06T00:00:00+00:00\",53],[\"2020-07-07...\n",
       "4         UK   All  [[\"2020-07-07T00:00:00+00:00\",227],[\"2020-07-0..."
      ]
     },
     "execution_count": 20,
     "metadata": {},
     "output_type": "execute_result"
    }
   ],
   "source": [
    "import pandas as pd\n",
    "df_itunes = pd.DataFrame(itunes_plot, columns =['Country', 'Genre', 'Plot_points'])  \n",
    "df_itunes.head(20)"
   ]
  },
  {
   "cell_type": "code",
   "execution_count": 21,
   "metadata": {},
   "outputs": [],
   "source": [
    "#Spotify Podcasts\n",
    "c_spotify = {'india':'India','united-states-of-america':'USA','singapore':'Singapore','australia':'Australia'}\n",
    "g_spotify = {'business-technology':'Business','educational':'Education'}\n",
    "\n",
    "countries = list(c_spotify.keys())\n",
    "genres = list(g_spotify.keys())\n",
    "\n",
    "spotify_plot=[]\n",
    "\n",
    "for genre in genres:\n",
    "    for country in countries:\n",
    "        url_apple = 'https://chartable.com/api/podcasts/'+name+'/rank_history?chart_id='+country+'-'+genre+'&chart_type=spotify'\n",
    "        driver.get(url_apple)\n",
    "        plot = driver.find_element_by_tag_name('pre')\n",
    "        if plot.text == '[]' or plot.text==\"Retry later\" or plot.text==\"Something went wrong.\":\n",
    "            continue\n",
    "        else:\n",
    "            spotify_plot.append([c_spotify[country],g_spotify[genre],plot.text])"
   ]
  },
  {
   "cell_type": "code",
   "execution_count": 22,
   "metadata": {},
   "outputs": [
    {
     "data": {
      "text/html": [
       "<div>\n",
       "<style scoped>\n",
       "    .dataframe tbody tr th:only-of-type {\n",
       "        vertical-align: middle;\n",
       "    }\n",
       "\n",
       "    .dataframe tbody tr th {\n",
       "        vertical-align: top;\n",
       "    }\n",
       "\n",
       "    .dataframe thead th {\n",
       "        text-align: right;\n",
       "    }\n",
       "</style>\n",
       "<table border=\"1\" class=\"dataframe\">\n",
       "  <thead>\n",
       "    <tr style=\"text-align: right;\">\n",
       "      <th></th>\n",
       "      <th>Country</th>\n",
       "      <th>Genre</th>\n",
       "      <th>Plot_points</th>\n",
       "    </tr>\n",
       "  </thead>\n",
       "  <tbody>\n",
       "    <tr>\n",
       "      <td>0</td>\n",
       "      <td>USA</td>\n",
       "      <td>Education</td>\n",
       "      <td>[[\"2020-07-06T00:00:00+00:00\",19],[\"2020-07-07...</td>\n",
       "    </tr>\n",
       "  </tbody>\n",
       "</table>\n",
       "</div>"
      ],
      "text/plain": [
       "  Country      Genre                                        Plot_points\n",
       "0     USA  Education  [[\"2020-07-06T00:00:00+00:00\",19],[\"2020-07-07..."
      ]
     },
     "execution_count": 22,
     "metadata": {},
     "output_type": "execute_result"
    }
   ],
   "source": [
    "import pandas as pd\n",
    "df_spotify = pd.DataFrame(spotify_plot, columns =['Country', 'Genre', 'Plot_points'])  \n",
    "df_spotify.head(20)"
   ]
  },
  {
   "cell_type": "code",
   "execution_count": null,
   "metadata": {},
   "outputs": [],
   "source": []
  }
 ],
 "metadata": {
  "kernelspec": {
   "display_name": "Python 3",
   "language": "python",
   "name": "python3"
  },
  "language_info": {
   "codemirror_mode": {
    "name": "ipython",
    "version": 3
   },
   "file_extension": ".py",
   "mimetype": "text/x-python",
   "name": "python",
   "nbconvert_exporter": "python",
   "pygments_lexer": "ipython3",
   "version": "3.7.4"
  }
 },
 "nbformat": 4,
 "nbformat_minor": 2
}
