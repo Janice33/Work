{
 "cells": [
  {
   "cell_type": "code",
   "execution_count": 1,
   "metadata": {},
   "outputs": [],
   "source": [
    "import urllib.parse\n",
    "from selenium import webdriver\n",
    "import time\n",
    "import ast\n",
    "import re\n",
    "from selenium.webdriver.common.keys import Keys\n",
    "\n",
    "driver = webdriver.Chrome(\"C:\\\\chromedriver_win32\\\\chromedriver.exe\")"
   ]
  },
  {
   "cell_type": "code",
   "execution_count": 2,
   "metadata": {},
   "outputs": [
    {
     "name": "stdout",
     "output_type": "stream",
     "text": [
      "hidden-brain\n"
     ]
    }
   ],
   "source": [
    "name=\"Hidden Brain\"\n",
    "name=name.replace(' ','-').lower()\n",
    "print(name)"
   ]
  },
  {
   "cell_type": "code",
   "execution_count": 3,
   "metadata": {},
   "outputs": [],
   "source": [
    "def split_string(string):\n",
    "    temp = ast.literal_eval(string)\n",
    "    timestamp, rank = zip(*temp)\n",
    "    timestamp = list(timestamp)\n",
    "    rank = list(rank)\n",
    "    return timestamp,rank"
   ]
  },
  {
   "cell_type": "code",
   "execution_count": 8,
   "metadata": {
    "scrolled": true
   },
   "outputs": [
    {
     "name": "stdout",
     "output_type": "stream",
     "text": [
      "https://chartable.com/api/podcasts/hidden-brain/rank_history?chart_id=in-business-podcasts&chart_type=itunes\n",
      "https://chartable.com/api/podcasts/hidden-brain/rank_history?chart_id=us-business-podcasts&chart_type=itunes\n",
      "https://chartable.com/api/podcasts/hidden-brain/rank_history?chart_id=ca-business-podcasts&chart_type=itunes\n",
      "https://chartable.com/api/podcasts/hidden-brain/rank_history?chart_id=au-business-podcasts&chart_type=itunes\n",
      "https://chartable.com/api/podcasts/hidden-brain/rank_history?chart_id=sg-business-podcasts&chart_type=itunes\n",
      "https://chartable.com/api/podcasts/hidden-brain/rank_history?chart_id=gb-business-podcasts&chart_type=itunes\n",
      "https://chartable.com/api/podcasts/hidden-brain/rank_history?chart_id=in-entrepreneurship-podcasts&chart_type=itunes\n",
      "https://chartable.com/api/podcasts/hidden-brain/rank_history?chart_id=us-entrepreneurship-podcasts&chart_type=itunes\n",
      "https://chartable.com/api/podcasts/hidden-brain/rank_history?chart_id=ca-entrepreneurship-podcasts&chart_type=itunes\n",
      "https://chartable.com/api/podcasts/hidden-brain/rank_history?chart_id=au-entrepreneurship-podcasts&chart_type=itunes\n",
      "https://chartable.com/api/podcasts/hidden-brain/rank_history?chart_id=sg-entrepreneurship-podcasts&chart_type=itunes\n",
      "https://chartable.com/api/podcasts/hidden-brain/rank_history?chart_id=gb-entrepreneurship-podcasts&chart_type=itunes\n",
      "https://chartable.com/api/podcasts/hidden-brain/rank_history?chart_id=in-all-podcasts-podcasts&chart_type=itunes\n",
      "https://chartable.com/api/podcasts/hidden-brain/rank_history?chart_id=us-all-podcasts-podcasts&chart_type=itunes\n",
      "https://chartable.com/api/podcasts/hidden-brain/rank_history?chart_id=ca-all-podcasts-podcasts&chart_type=itunes\n",
      "https://chartable.com/api/podcasts/hidden-brain/rank_history?chart_id=au-all-podcasts-podcasts&chart_type=itunes\n",
      "https://chartable.com/api/podcasts/hidden-brain/rank_history?chart_id=sg-all-podcasts-podcasts&chart_type=itunes\n",
      "https://chartable.com/api/podcasts/hidden-brain/rank_history?chart_id=gb-all-podcasts-podcasts&chart_type=itunes\n",
      "https://chartable.com/api/podcasts/hidden-brain/rank_history?chart_id=in-education-podcasts&chart_type=itunes\n",
      "https://chartable.com/api/podcasts/hidden-brain/rank_history?chart_id=us-education-podcasts&chart_type=itunes\n",
      "https://chartable.com/api/podcasts/hidden-brain/rank_history?chart_id=ca-education-podcasts&chart_type=itunes\n",
      "https://chartable.com/api/podcasts/hidden-brain/rank_history?chart_id=au-education-podcasts&chart_type=itunes\n",
      "https://chartable.com/api/podcasts/hidden-brain/rank_history?chart_id=sg-education-podcasts&chart_type=itunes\n",
      "https://chartable.com/api/podcasts/hidden-brain/rank_history?chart_id=gb-education-podcasts&chart_type=itunes\n"
     ]
    }
   ],
   "source": [
    "#Apple\n",
    "import time\n",
    "c_apple = {'in':'India','us':'USA','ca':'Canada','au':'Australia','sg':'Singapore','gb':'UK'}\n",
    "g_apple = {'business':'Business','entrepreneurship':'Entrepreneurship','all-podcasts':'All','education':'Education'}\n",
    "\n",
    "countries = list(c_apple.keys())\n",
    "genres = list(g_apple.keys())\n",
    "\n",
    "# print(countries)\n",
    "# print(genres)\n",
    "\n",
    "itunes_plot=[]\n",
    "\n",
    "for genre in genres:\n",
    "    for country in countries:\n",
    "        url_apple = 'https://chartable.com/api/podcasts/'+name+'/rank_history?chart_id='+country+'-'+genre+'-'+'podcasts&chart_type=itunes'\n",
    "        driver.get(url_apple)\n",
    "        time.sleep(2)\n",
    "        plot = driver.find_element_by_tag_name('pre')\n",
    "        print(url_apple)\n",
    "        if plot.text == '[]' or plot.text==\"Retry later\" or plot.text==\"Something went wrong.\":\n",
    "            continue\n",
    "        else:\n",
    "            timestamp,rank = split_string(plot.text)\n",
    "            itunes_plot.append([c_apple[country],g_apple[genre],timestamp,rank])"
   ]
  },
  {
   "cell_type": "code",
   "execution_count": 9,
   "metadata": {},
   "outputs": [
    {
     "data": {
      "text/html": [
       "<div>\n",
       "<style scoped>\n",
       "    .dataframe tbody tr th:only-of-type {\n",
       "        vertical-align: middle;\n",
       "    }\n",
       "\n",
       "    .dataframe tbody tr th {\n",
       "        vertical-align: top;\n",
       "    }\n",
       "\n",
       "    .dataframe thead th {\n",
       "        text-align: right;\n",
       "    }\n",
       "</style>\n",
       "<table border=\"1\" class=\"dataframe\">\n",
       "  <thead>\n",
       "    <tr style=\"text-align: right;\">\n",
       "      <th></th>\n",
       "      <th>Country</th>\n",
       "      <th>Genre</th>\n",
       "      <th>Time</th>\n",
       "      <th>Rank</th>\n",
       "    </tr>\n",
       "  </thead>\n",
       "  <tbody>\n",
       "    <tr>\n",
       "      <td>0</td>\n",
       "      <td>India</td>\n",
       "      <td>All</td>\n",
       "      <td>[2020-07-07T00:00:00+00:00, 2020-07-08T00:00:0...</td>\n",
       "      <td>[113, 128, 137, 181, 119, 145, 137, 174, 176, ...</td>\n",
       "    </tr>\n",
       "    <tr>\n",
       "      <td>1</td>\n",
       "      <td>USA</td>\n",
       "      <td>All</td>\n",
       "      <td>[2020-07-06T06:00:00+00:00, 2020-07-07T06:00:0...</td>\n",
       "      <td>[31, 30, 32, 34, 40, 47, 49, 43, 38, 45, 49, 5...</td>\n",
       "    </tr>\n",
       "    <tr>\n",
       "      <td>2</td>\n",
       "      <td>Canada</td>\n",
       "      <td>All</td>\n",
       "      <td>[2020-07-07T00:00:00+00:00, 2020-07-08T00:00:0...</td>\n",
       "      <td>[58, 65, 83, 108, 85, 84, 84, 70, 73, 85, 105,...</td>\n",
       "    </tr>\n",
       "    <tr>\n",
       "      <td>3</td>\n",
       "      <td>Australia</td>\n",
       "      <td>All</td>\n",
       "      <td>[2020-07-07T00:00:00+00:00, 2020-07-08T00:00:0...</td>\n",
       "      <td>[191, 191, 223, 228, 167, 190, 199, 204, 206, ...</td>\n",
       "    </tr>\n",
       "    <tr>\n",
       "      <td>4</td>\n",
       "      <td>Singapore</td>\n",
       "      <td>All</td>\n",
       "      <td>[2020-07-07T00:00:00+00:00, 2020-07-08T00:00:0...</td>\n",
       "      <td>[51, 37, 34, 71, 56, 52, 112, 113, 134, 158, 1...</td>\n",
       "    </tr>\n",
       "    <tr>\n",
       "      <td>5</td>\n",
       "      <td>UK</td>\n",
       "      <td>All</td>\n",
       "      <td>[2020-07-07T00:00:00+00:00, 2020-07-08T00:00:0...</td>\n",
       "      <td>[227, 227]</td>\n",
       "    </tr>\n",
       "  </tbody>\n",
       "</table>\n",
       "</div>"
      ],
      "text/plain": [
       "     Country Genre                                               Time  \\\n",
       "0      India   All  [2020-07-07T00:00:00+00:00, 2020-07-08T00:00:0...   \n",
       "1        USA   All  [2020-07-06T06:00:00+00:00, 2020-07-07T06:00:0...   \n",
       "2     Canada   All  [2020-07-07T00:00:00+00:00, 2020-07-08T00:00:0...   \n",
       "3  Australia   All  [2020-07-07T00:00:00+00:00, 2020-07-08T00:00:0...   \n",
       "4  Singapore   All  [2020-07-07T00:00:00+00:00, 2020-07-08T00:00:0...   \n",
       "5         UK   All  [2020-07-07T00:00:00+00:00, 2020-07-08T00:00:0...   \n",
       "\n",
       "                                                Rank  \n",
       "0  [113, 128, 137, 181, 119, 145, 137, 174, 176, ...  \n",
       "1  [31, 30, 32, 34, 40, 47, 49, 43, 38, 45, 49, 5...  \n",
       "2  [58, 65, 83, 108, 85, 84, 84, 70, 73, 85, 105,...  \n",
       "3  [191, 191, 223, 228, 167, 190, 199, 204, 206, ...  \n",
       "4  [51, 37, 34, 71, 56, 52, 112, 113, 134, 158, 1...  \n",
       "5                                         [227, 227]  "
      ]
     },
     "execution_count": 9,
     "metadata": {},
     "output_type": "execute_result"
    }
   ],
   "source": [
    "import pandas as pd\n",
    "df_itunes = pd.DataFrame(itunes_plot, columns =['Country', 'Genre', 'Time', 'Rank'])  \n",
    "df_itunes.head(20)"
   ]
  },
  {
   "cell_type": "code",
   "execution_count": 10,
   "metadata": {},
   "outputs": [],
   "source": [
    "#Spotify Podcasts\n",
    "import time\n",
    "c_spotify = {'india':'India','united-states-of-america':'USA','singapore':'Singapore','australia':'Australia'}\n",
    "g_spotify = {'business-technology':'Business','educational':'Education'}\n",
    "\n",
    "countries = list(c_spotify.keys())\n",
    "genres = list(g_spotify.keys())\n",
    "\n",
    "spotify_plot=[]\n",
    "\n",
    "for genre in genres:\n",
    "    for country in countries:\n",
    "        url_apple = 'https://chartable.com/api/podcasts/'+name+'/rank_history?chart_id='+country+'-'+genre+'&chart_type=spotify'\n",
    "        driver.get(url_apple)\n",
    "        time.sleep(2)\n",
    "        plot = driver.find_element_by_tag_name('pre')\n",
    "        if plot.text == '[]' or plot.text==\"Retry later\" or plot.text==\"Something went wrong.\":\n",
    "            continue\n",
    "        else:\n",
    "            timestamp,rank = split_string(plot.text)\n",
    "            spotify_plot.append([c_spotify[country],g_spotify[genre],timestamp,rank])"
   ]
  },
  {
   "cell_type": "code",
   "execution_count": 11,
   "metadata": {},
   "outputs": [
    {
     "data": {
      "text/html": [
       "<div>\n",
       "<style scoped>\n",
       "    .dataframe tbody tr th:only-of-type {\n",
       "        vertical-align: middle;\n",
       "    }\n",
       "\n",
       "    .dataframe tbody tr th {\n",
       "        vertical-align: top;\n",
       "    }\n",
       "\n",
       "    .dataframe thead th {\n",
       "        text-align: right;\n",
       "    }\n",
       "</style>\n",
       "<table border=\"1\" class=\"dataframe\">\n",
       "  <thead>\n",
       "    <tr style=\"text-align: right;\">\n",
       "      <th></th>\n",
       "      <th>Country</th>\n",
       "      <th>Genre</th>\n",
       "      <th>Time</th>\n",
       "      <th>Rank</th>\n",
       "    </tr>\n",
       "  </thead>\n",
       "  <tbody>\n",
       "    <tr>\n",
       "      <td>0</td>\n",
       "      <td>USA</td>\n",
       "      <td>Education</td>\n",
       "      <td>[2020-07-07T00:00:00+00:00, 2020-07-08T00:00:0...</td>\n",
       "      <td>[18, 18, 9, 11, 19, 19, 21, 19, 20, 10, 13, 16...</td>\n",
       "    </tr>\n",
       "  </tbody>\n",
       "</table>\n",
       "</div>"
      ],
      "text/plain": [
       "  Country      Genre                                               Time  \\\n",
       "0     USA  Education  [2020-07-07T00:00:00+00:00, 2020-07-08T00:00:0...   \n",
       "\n",
       "                                                Rank  \n",
       "0  [18, 18, 9, 11, 19, 19, 21, 19, 20, 10, 13, 16...  "
      ]
     },
     "execution_count": 11,
     "metadata": {},
     "output_type": "execute_result"
    }
   ],
   "source": [
    "import pandas as pd\n",
    "df_spotify = pd.DataFrame(spotify_plot, columns =['Country', 'Genre', 'Time', 'Rank'])  \n",
    "df_spotify.head(20)"
   ]
  },
  {
   "cell_type": "code",
   "execution_count": null,
   "metadata": {},
   "outputs": [],
   "source": []
  }
 ],
 "metadata": {
  "kernelspec": {
   "display_name": "Python 3",
   "language": "python",
   "name": "python3"
  },
  "language_info": {
   "codemirror_mode": {
    "name": "ipython",
    "version": 3
   },
   "file_extension": ".py",
   "mimetype": "text/x-python",
   "name": "python",
   "nbconvert_exporter": "python",
   "pygments_lexer": "ipython3",
   "version": "3.7.4"
  }
 },
 "nbformat": 4,
 "nbformat_minor": 2
}
